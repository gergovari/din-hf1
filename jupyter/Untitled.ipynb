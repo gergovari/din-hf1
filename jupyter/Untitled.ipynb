{
 "cells": [
  {
   "cell_type": "code",
   "execution_count": 7,
   "id": "0905a86d-c275-4058-92ea-82b4756d7f85",
   "metadata": {},
   "outputs": [],
   "source": [
    "import sympy as sp\n",
    "from sympy import cos, sin, asin\n",
    "from sympy import symbols, Eq, solve\n",
    "from sympy.matrices import Matrix"
   ]
  },
  {
   "cell_type": "code",
   "execution_count": 24,
   "id": "2f47ee50-7909-450e-a526-ec691c905094",
   "metadata": {},
   "outputs": [],
   "source": [
    "phi, l_1, l_2, l_3, v_C_x, R = sp.symbols('phi, l_1, l_2, l_3, v_C_x, R')\n",
    "data = [(phi, 55), (l_1, .07), (l_2, .17), (l_3, .04), (v_C_x, .6), (R, 3*l_3)]"
   ]
  },
  {
   "cell_type": "markdown",
   "id": "d894b221-b336-4339-97e5-d81ef1a869eb",
   "metadata": {},
   "source": [
    "# 2. feladat"
   ]
  },
  {
   "cell_type": "code",
   "execution_count": 59,
   "id": "1f02909c-0d35-40ed-951f-fcabd7e0ea41",
   "metadata": {},
   "outputs": [],
   "source": [
    "v_S_2_x, v_S_2_y = sp.symbols('v_S_2_x, v_S_2_y')\n",
    "v_S_2 = Matrix([v_S_2_x, v_S_2_y, 0])\n",
    "\n",
    "v_C = Matrix([v_C_x, 0, 0])\n",
    "\n",
    "w_2_z = sp.symbols('w_2_z')\n",
    "w_2 = Matrix([0, 0, w_2_z])\n",
    "\n",
    "w_3_z = sp.symbols('w_3_z')\n",
    "w_3 = Matrix([0, 0, w_3_z])\n",
    "\n",
    "v_A = Matrix([-w_3_z * l_3, 0, 0])\n",
    "\n",
    "beta = asin((l_3 + l_3 * cos(phi))/l_2)\n",
    "r_CB = Matrix([-l_2 * cos(beta), l_2 * sin(beta), 0])\n",
    "r_CS2 = r_CB / 2\n",
    "\n",
    "r_AB = Matrix([l_3 * sin(phi), l_3 * cos(phi), 0])\n",
    "\n",
    "first = Eq(v_A + w_3.cross(r_AB), v_C + w_2.cross(r_CB))\n",
    "final = Eq(v_S_2, v_C + w_2.cross(r_CS2))\n",
    "\n",
    "first_sol = solve(first, w_2_z, w_3_z)\n",
    "w_2_z = float(first_sol[w_2_z].subs(data))\n",
    "w_3_z = float(first_sol[w_3_z].subs(data))\n",
    "\n",
    "final_sol = solve(final, v_S_2_x, v_S_2_y)\n",
    "v_S_2_x = float(final_sol[v_S_2_x].subs(data).subs([('w_2_z', w_2_z)]))\n",
    "v_S_2_y = float(final_sol[v_S_2_y].subs(data).subs([('w_2_z', w_2_z)]))\n",
    "v_S_2 = Matrix([v_S_2_x, v_S_2_y, 0])\n",
    "w_2 = Matrix([0, 0, w_2_z])\n",
    "w_3 = Matrix([0, 0, w_3_z])"
   ]
  },
  {
   "cell_type": "code",
   "execution_count": 62,
   "id": "b0f28f1f-e6ec-45be-936d-36c5fa131517",
   "metadata": {},
   "outputs": [
    {
     "name": "stdout",
     "output_type": "stream",
     "text": [
      "v_S_2: Matrix([[0.695961043691395], [0.387294530207462], [0]]) => v_S_2 = 0.796466463490231\n",
      "w_2: Matrix([[0], [0], [-4.69418509512151]])\n",
      "w_3: Matrix([[0], [0], [-19.3694686723335]])\n"
     ]
    }
   ],
   "source": [
    "print(f\"v_S_2: {v_S_2} => v_S_2 = {v_S_2.norm()}\")\n",
    "print(f\"w_2: {w_2}\")\n",
    "print(f\"w_3: {w_3}\")"
   ]
  },
  {
   "cell_type": "markdown",
   "id": "cb77d252-c5e5-4abf-aaa7-c49b9364b9ef",
   "metadata": {},
   "source": [
    "# 3. feladat"
   ]
  },
  {
   "cell_type": "code",
   "execution_count": 11,
   "id": "399ae908-4d9b-4e10-9be0-6b463873d5a8",
   "metadata": {},
   "outputs": [],
   "source": [
    "pass"
   ]
  },
  {
   "cell_type": "markdown",
   "id": "fcd4d3df-785c-4f2c-a735-de1eac061a43",
   "metadata": {},
   "source": [
    "# 4. feladat"
   ]
  },
  {
   "cell_type": "code",
   "execution_count": 64,
   "id": "22481b67-6be8-4306-9147-f36356ec9c09",
   "metadata": {},
   "outputs": [
    {
     "name": "stdout",
     "output_type": "stream",
     "text": [
      "E_2: Matrix([[0], [0], [204.420734976577]])\n",
      "E_3: Matrix([[0], [0], [482.451665283276]])\n",
      "a_S_2: Matrix([[-2.36084584396393], [-17.3162259964937], [0]]) => a_S_2 = 17.4764205677423\n"
     ]
    }
   ],
   "source": [
    "E_2_z = sp.symbols('E_2_z')\n",
    "E_2 = Matrix([0, 0, E_2_z])\n",
    "\n",
    "E_3_z = sp.symbols('E_3_z')\n",
    "E_3 = Matrix([0, 0, E_3_z])\n",
    "\n",
    "a_S_2_x = sp.symbols('a_S_2_x')\n",
    "a_S_2_y = sp.symbols('a_S_2_y')\n",
    "a_S_2 = Matrix([a_S_2_x, a_S_2_y, 0])\n",
    "\n",
    "a_E = Matrix([0, 0, R*l_3*(w_3_z**2) / (R-l_3)])\n",
    "r_EB = Matrix([0, l_3, 0]) + r_AB\n",
    "\n",
    "final = Eq(E_2.cross(r_CB) - w_2_z**2 * r_CB, a_E + E_3.cross(r_EB) - w_3_z**2 * r_EB)\n",
    "final_sol = solve(final, E_2_z, E_3_z)\n",
    "\n",
    "E_2_z = float(final_sol[E_2_z].subs(data))\n",
    "E_2 = Matrix([0, 0, E_2_z])\n",
    "\n",
    "E_3_z = float(final_sol[E_3_z].subs(data))\n",
    "E_3 = Matrix([0, 0, E_3_z])\n",
    "\n",
    "final = Eq(a_S_2, E_2.cross(r_CS2) - w_2_z**2 * r_CS2)\n",
    "final_sol = solve(final, a_S_2_x, a_S_2_y)\n",
    "\n",
    "a_S_2_x = float(final_sol[a_S_2_x].subs(data))\n",
    "a_S_2_y = float(final_sol[a_S_2_y].subs(data))\n",
    "a_S_2 = Matrix([a_S_2_x, a_S_2_y, 0])\n",
    "\n",
    "print(f\"E_2: {E_2}\")\n",
    "print(f\"E_3: {E_3}\")\n",
    "print(f\"a_S_2: {a_S_2} => a_S_2 = {a_S_2.norm()}\")"
   ]
  },
  {
   "cell_type": "markdown",
   "id": "13f02a87-f701-4700-b3fa-71a7ced3b63b",
   "metadata": {},
   "source": [
    "# 7. feladat"
   ]
  },
  {
   "cell_type": "code",
   "execution_count": 65,
   "id": "f97a87b0-50eb-46ec-b578-bbd3430e03d3",
   "metadata": {},
   "outputs": [
    {
     "name": "stdout",
     "output_type": "stream",
     "text": [
      "a_S_2_t: Matrix([[-2.36084584396393], [-17.3162259964937], [0]]) => a_S_2_t = 17.4764205677423\n",
      "a_S_2_n: Matrix([[-4.44089209850063e-16], [-3.55271367880050e-15], [0]]) => a_S_2_n = 3.58036167304945E-15\n"
     ]
    }
   ],
   "source": [
    "a_S_2_t = ((a_S_2 * v_S_2.transpose())/v_S_2.norm()) * (v_S_2 / v_S_2.norm())\n",
    "a_S_2_n = a_S_2 - a_S_2_t\n",
    "\n",
    "print(f\"a_S_2_t: {a_S_2_t} => a_S_2_t = {a_S_2_t.norm()}\")\n",
    "print(f\"a_S_2_n: {a_S_2_n} => a_S_2_n = {a_S_2_n.norm()}\")"
   ]
  },
  {
   "cell_type": "markdown",
   "id": "80802f10-8632-497c-a801-88453c20ae07",
   "metadata": {},
   "source": [
    "# 8. feladat"
   ]
  },
  {
   "cell_type": "code",
   "execution_count": 58,
   "id": "da11be64-529d-4c00-a74c-a6b8a9d19b58",
   "metadata": {},
   "outputs": [
    {
     "name": "stdout",
     "output_type": "stream",
     "text": [
      "p_B: 177177303689642\n"
     ]
    }
   ],
   "source": [
    "p_B = ((v_S_2.norm())**2) / a_S_2_n.norm()\n",
    "\n",
    "print(f\"p_B: {p_B}\")"
   ]
  }
 ],
 "metadata": {
  "kernelspec": {
   "display_name": "Python 3 (ipykernel)",
   "language": "python",
   "name": "python3"
  },
  "language_info": {
   "codemirror_mode": {
    "name": "ipython",
    "version": 3
   },
   "file_extension": ".py",
   "mimetype": "text/x-python",
   "name": "python",
   "nbconvert_exporter": "python",
   "pygments_lexer": "ipython3",
   "version": "3.12.8"
  }
 },
 "nbformat": 4,
 "nbformat_minor": 5
}
