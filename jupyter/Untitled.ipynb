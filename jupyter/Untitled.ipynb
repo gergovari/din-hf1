{
 "cells": [
  {
   "cell_type": "code",
   "execution_count": 1,
   "id": "0905a86d-c275-4058-92ea-82b4756d7f85",
   "metadata": {},
   "outputs": [],
   "source": [
    "import sympy as sp\n",
    "from sympy import cos, sin, asin\n",
    "from sympy import symbols, Eq, solve\n",
    "from sympy.matrices import Matrix"
   ]
  },
  {
   "cell_type": "code",
   "execution_count": 2,
   "id": "2f47ee50-7909-450e-a526-ec691c905094",
   "metadata": {},
   "outputs": [],
   "source": [
    "phi, l_1, l_2, l_3, v_C_x = sp.symbols('phi, l_1, l_2, l_3, v_C_x')\n",
    "data = [(phi, 55), (l_1, .07), (l_2, .17), (l_3, .04), (v_C_x, .6)]"
   ]
  },
  {
   "cell_type": "code",
   "execution_count": 3,
   "id": "1f02909c-0d35-40ed-951f-fcabd7e0ea41",
   "metadata": {},
   "outputs": [
    {
     "ename": "TypeError",
     "evalue": "cannot determine truth value of Relational: Eq(Matrix([\n[v_S_2_x],\n[v_S_2_y],\n[v_S_2_z]]), Matrix([\n[               v_C_x - w_2_z*(l_3*cos(phi)/2 + l_3/2)],\n[-l_2*w_2_z*sqrt(1 - (l_3*cos(phi) + l_3)**2/l_2**2)/2],\n[                                                    0]]))",
     "output_type": "error",
     "traceback": [
      "\u001b[31m---------------------------------------------------------------------------\u001b[39m",
      "\u001b[31mTypeError\u001b[39m                                 Traceback (most recent call last)",
      "\u001b[36mCell\u001b[39m\u001b[36m \u001b[39m\u001b[32mIn[3]\u001b[39m\u001b[32m, line 27\u001b[39m\n\u001b[32m     24\u001b[39m second = Eq(v_B, v_A + w_3.cross(r_AB))\n\u001b[32m     25\u001b[39m final = Eq(v_S_2, v_C + w_2.cross(r_CS2))\n\u001b[32m---> \u001b[39m\u001b[32m27\u001b[39m solution = \u001b[43mlinsolve\u001b[49m\u001b[43m(\u001b[49m\u001b[43mfinal\u001b[49m\u001b[43m,\u001b[49m\u001b[43m \u001b[49m\u001b[43mv_B\u001b[49m\u001b[43m)\u001b[49m\n\u001b[32m     28\u001b[39m \u001b[38;5;28mprint\u001b[39m(solution)\n",
      "\u001b[36mFile \u001b[39m\u001b[32m~/Documents/uni/3/dinamika/hf1/jupyter/.venv/lib/python3.12/site-packages/sympy/solvers/solveset.py:3069\u001b[39m, in \u001b[36mlinsolve\u001b[39m\u001b[34m(system, *symbols)\u001b[39m\n\u001b[32m   2896\u001b[39m \u001b[38;5;28;01mdef\u001b[39;00m\u001b[38;5;250m \u001b[39m\u001b[34mlinsolve\u001b[39m(system, *symbols):\n\u001b[32m   2897\u001b[39m \u001b[38;5;250m    \u001b[39m\u001b[33mr\u001b[39m\u001b[33;03m\"\"\"\u001b[39;00m\n\u001b[32m   2898\u001b[39m \u001b[33;03m    Solve system of $N$ linear equations with $M$ variables; both\u001b[39;00m\n\u001b[32m   2899\u001b[39m \u001b[33;03m    underdetermined and overdetermined systems are supported.\u001b[39;00m\n\u001b[32m   (...)\u001b[39m\u001b[32m   3067\u001b[39m \u001b[33;03m    NonlinearError: nonlinear term: x**2\u001b[39;00m\n\u001b[32m   3068\u001b[39m \u001b[33;03m    \"\"\"\u001b[39;00m\n\u001b[32m-> \u001b[39m\u001b[32m3069\u001b[39m     \u001b[38;5;28;01mif\u001b[39;00m \u001b[38;5;129;01mnot\u001b[39;00m system:\n\u001b[32m   3070\u001b[39m         \u001b[38;5;28;01mreturn\u001b[39;00m S.EmptySet\n\u001b[32m   3072\u001b[39m     \u001b[38;5;66;03m# If second argument is an iterable\u001b[39;00m\n",
      "\u001b[36mFile \u001b[39m\u001b[32m~/Documents/uni/3/dinamika/hf1/jupyter/.venv/lib/python3.12/site-packages/sympy/core/relational.py:519\u001b[39m, in \u001b[36mRelational.__bool__\u001b[39m\u001b[34m(self)\u001b[39m\n\u001b[32m    518\u001b[39m \u001b[38;5;28;01mdef\u001b[39;00m\u001b[38;5;250m \u001b[39m\u001b[34m__bool__\u001b[39m(\u001b[38;5;28mself\u001b[39m) -> \u001b[38;5;28mbool\u001b[39m:\n\u001b[32m--> \u001b[39m\u001b[32m519\u001b[39m     \u001b[38;5;28;01mraise\u001b[39;00m \u001b[38;5;167;01mTypeError\u001b[39;00m(\n\u001b[32m    520\u001b[39m         LazyExceptionMessage(\n\u001b[32m    521\u001b[39m             \u001b[38;5;28;01mlambda\u001b[39;00m: \u001b[33mf\u001b[39m\u001b[33m\"\u001b[39m\u001b[33mcannot determine truth value of Relational: \u001b[39m\u001b[38;5;132;01m{\u001b[39;00m\u001b[38;5;28mself\u001b[39m\u001b[38;5;132;01m}\u001b[39;00m\u001b[33m\"\u001b[39m\n\u001b[32m    522\u001b[39m         )\n\u001b[32m    523\u001b[39m     )\n",
      "\u001b[31mTypeError\u001b[39m: cannot determine truth value of Relational: Eq(Matrix([\n[v_S_2_x],\n[v_S_2_y],\n[v_S_2_z]]), Matrix([\n[               v_C_x - w_2_z*(l_3*cos(phi)/2 + l_3/2)],\n[-l_2*w_2_z*sqrt(1 - (l_3*cos(phi) + l_3)**2/l_2**2)/2],\n[                                                    0]]))"
     ]
    }
   ],
   "source": [
    "v_S_2_x, v_S_2_y, v_S_2_z = sp.symbols('v_S_2_x, v_S_2_y, v_S_2_z')\n",
    "v_S_2 = Matrix([v_S_2_x, v_S_2_y, v_S_2_z])\n",
    "\n",
    "v_B_x, v_B_y, v_B_z = sp.symbols('v_B_x, v_B_y, v_B_z')\n",
    "v_B = Matrix([v_B_x, v_B_y, v_B_z])\n",
    "\n",
    "v_C = Matrix([v_C_x, 0, 0])\n",
    "\n",
    "w_2_z = sp.symbols('w_2_z')\n",
    "w_2 = Matrix([0, 0, w_2_z])\n",
    "\n",
    "w_3_z = sp.symbols('w_3_z')\n",
    "w_3 = Matrix([0, 0, w_3_z])\n",
    "\n",
    "v_A = Matrix([-w_3_z * l_3, 0, 0])\n",
    "\n",
    "beta = asin((l_3 + l_3 * cos(phi))/l_2)\n",
    "r_CB = Matrix([-l_2 * cos(beta), l_2 * sin(beta), 0])\n",
    "r_CS2 = r_CB / 2\n",
    "\n",
    "r_AB = Matrix([l_3 * sin(phi), l_3 * cos(phi), 0])\n",
    "\n",
    "first = Eq(v_B, v_C + w_2.cross(r_CB))\n",
    "second = Eq(v_B, v_A + w_3.cross(r_AB))\n",
    "final = Eq(v_S_2, v_C + w_2.cross(r_CS2))\n",
    "\n",
    "solution = solve(final, v_B)\n",
    "print(solution)"
   ]
  },
  {
   "cell_type": "code",
   "execution_count": 4,
   "id": "8b10fc47-fca4-4899-813f-3078d83be3bf",
   "metadata": {},
   "outputs": [
    {
     "name": "stdout",
     "output_type": "stream",
     "text": [
      "First equation after substitution: Eq(Matrix([\n",
      "[v_B_x],\n",
      "[v_B_y],\n",
      "[v_B_z]]), Matrix([\n",
      "[                             -w_2_z*(0.04*cos(55) + 0.04) + 0.6],\n",
      "[-0.17*w_2_z*sqrt(1 - 34.6020761245675*(0.04*cos(55) + 0.04)**2)],\n",
      "[                                                              0]]))\n",
      "Second equation after substitution: Eq(Matrix([\n",
      "[v_B_x],\n",
      "[v_B_y],\n",
      "[v_B_z]]), Matrix([\n",
      "[-0.04*w_3_z - 0.04*w_3_z*cos(55)],\n",
      "[              0.04*w_3_z*sin(55)],\n",
      "[                               0]]))\n",
      "Final equation after substitution: Eq(Matrix([\n",
      "[v_S_2_x],\n",
      "[v_S_2_y],\n",
      "[v_S_2_z]]), Matrix([\n",
      "[                              -w_2_z*(0.02*cos(55) + 0.02) + 0.6],\n",
      "[-0.085*w_2_z*sqrt(1 - 34.6020761245675*(0.04*cos(55) + 0.04)**2)],\n",
      "[                                                               0]]))\n",
      "Solution for v_B: []\n"
     ]
    }
   ],
   "source": [
    "import sympy as sp\n",
    "from sympy import cos, sin, asin\n",
    "from sympy import symbols, Eq, solve\n",
    "from sympy.matrices import Matrix\n",
    "\n",
    "# Define symbols\n",
    "phi, l_1, l_2, l_3, v_C_x = sp.symbols('phi, l_1, l_2, l_3, v_C_x')\n",
    "v_S_2_x, v_S_2_y, v_S_2_z = sp.symbols('v_S_2_x, v_S_2_y, v_S_2_z')\n",
    "v_B_x, v_B_y, v_B_z = sp.symbols('v_B_x, v_B_y, v_B_z')\n",
    "w_2_z, w_3_z = sp.symbols('w_2_z, w_3_z')\n",
    "\n",
    "# Define vectors\n",
    "v_S_2 = Matrix([v_S_2_x, v_S_2_y, v_S_2_z])\n",
    "v_B = Matrix([v_B_x, v_B_y, v_B_z])\n",
    "v_C = Matrix([v_C_x, 0, 0])\n",
    "w_2 = Matrix([0, 0, w_2_z])\n",
    "w_3 = Matrix([0, 0, w_3_z])\n",
    "v_A = Matrix([-w_3_z * l_3, 0, 0])\n",
    "\n",
    "# Angles and positions\n",
    "beta = asin((l_3 + l_3 * cos(phi)) / l_2)\n",
    "r_CB = Matrix([-l_2 * cos(beta), l_2 * sin(beta), 0])\n",
    "r_CS2 = r_CB / 2\n",
    "r_AB = Matrix([l_3 * sin(phi), l_3 * cos(phi), 0])\n",
    "\n",
    "# Define the equations\n",
    "first = Eq(v_B, v_C + w_2.cross(r_CB))\n",
    "second = Eq(v_B, v_A + w_3.cross(r_AB))\n",
    "final = Eq(v_S_2, v_C + w_2.cross(r_CS2))\n",
    "\n",
    "# Substitute known data\n",
    "data = [(phi, 55), (l_1, 0.07), (l_2, 0.17), (l_3, 0.04), (v_C_x, 0.6)]\n",
    "substituted_first = first.subs(data)\n",
    "substituted_second = second.subs(data)\n",
    "substituted_final = final.subs(data)\n",
    "\n",
    "# Print the substituted equations to verify\n",
    "print(\"First equation after substitution:\", substituted_first)\n",
    "print(\"Second equation after substitution:\", substituted_second)\n",
    "print(\"Final equation after substitution:\", substituted_final)\n",
    "\n",
    "# Solve the final equation\n",
    "solution = solve(substituted_final, v_B)\n",
    "print(\"Solution for v_B:\", solution)\n"
   ]
  },
  {
   "cell_type": "code",
   "execution_count": null,
   "id": "748570fc-4c91-47fb-892e-7120188fed62",
   "metadata": {},
   "outputs": [],
   "source": []
  }
 ],
 "metadata": {
  "kernelspec": {
   "display_name": "Python 3 (ipykernel)",
   "language": "python",
   "name": "python3"
  },
  "language_info": {
   "codemirror_mode": {
    "name": "ipython",
    "version": 3
   },
   "file_extension": ".py",
   "mimetype": "text/x-python",
   "name": "python",
   "nbconvert_exporter": "python",
   "pygments_lexer": "ipython3",
   "version": "3.12.8"
  }
 },
 "nbformat": 4,
 "nbformat_minor": 5
}
