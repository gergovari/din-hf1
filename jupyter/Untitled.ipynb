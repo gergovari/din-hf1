{
 "cells": [
  {
   "cell_type": "code",
   "execution_count": 1,
   "id": "0905a86d-c275-4058-92ea-82b4756d7f85",
   "metadata": {},
   "outputs": [],
   "source": [
    "import sympy as sp\n",
    "from sympy import cos, sin, asin\n",
    "from sympy import symbols, Eq, solve\n",
    "from sympy.matrices import Matrix"
   ]
  },
  {
   "cell_type": "code",
   "execution_count": 2,
   "id": "2f47ee50-7909-450e-a526-ec691c905094",
   "metadata": {},
   "outputs": [],
   "source": [
    "phi, l_1, l_2, l_3, v_C_x = sp.symbols('phi, l_1, l_2, l_3, v_C_x')\n",
    "data = [(phi, 55), (l_1, .07), (l_2, .17), (l_3, .04), (v_C_x, .6)]"
   ]
  },
  {
   "cell_type": "code",
   "execution_count": 3,
   "id": "1f02909c-0d35-40ed-951f-fcabd7e0ea41",
   "metadata": {},
   "outputs": [
    {
     "name": "stdout",
     "output_type": "stream",
     "text": [
      "[{v_C_x: w_2_z*(l_2*sqrt((l_2**2 - l_3**2*(cos(phi) + 1)**2)/l_2**2)*cos(phi) + l_2*sqrt((l_2**2 - l_3**2*(cos(phi) + 1)**2)/l_2**2) + l_3*(cos(phi) + 1)*sin(phi))/sin(phi), w_3_z: -l_2*w_2_z*sqrt(1 - l_3**2*(cos(phi) + 1)**2/l_2**2)/(l_3*sin(phi))}]\n"
     ]
    }
   ],
   "source": [
    "v_S_2_x, v_S_2_y = sp.symbols('v_S_2_x, v_S_2_y')\n",
    "v_S_2 = Matrix([v_S_2_x, v_S_2_y, 0])\n",
    "\n",
    "v_C = Matrix([v_C_x, 0, 0])\n",
    "\n",
    "w_2_z = sp.symbols('w_2_z')\n",
    "w_2 = Matrix([0, 0, w_2_z])\n",
    "\n",
    "w_3_z = sp.symbols('w_3_z')\n",
    "w_3 = Matrix([0, 0, w_3_z])\n",
    "\n",
    "v_A = Matrix([-w_3_z * l_3, 0, 0])\n",
    "\n",
    "beta = asin((l_3 + l_3 * cos(phi))/l_2)\n",
    "r_CB = Matrix([-l_2 * cos(beta), l_2 * sin(beta), 0])\n",
    "r_CS2 = r_CB / 2\n",
    "\n",
    "r_AB = Matrix([l_3 * sin(phi), l_3 * cos(phi), 0])\n",
    "\n",
    "first = Eq(v_A + w_3.cross(r_AB), v_C + w_2.cross(r_CB))\n",
    "final = Eq(v_S_2, v_C + w_2.cross(r_CS2))\n",
    "\n",
    "solution = solve(first)\n",
    "print(solution)"
   ]
  },
  {
   "cell_type": "code",
   "execution_count": null,
   "id": "8b10fc47-fca4-4899-813f-3078d83be3bf",
   "metadata": {},
   "outputs": [],
   "source": []
  },
  {
   "cell_type": "code",
   "execution_count": null,
   "id": "b0f28f1f-e6ec-45be-936d-36c5fa131517",
   "metadata": {},
   "outputs": [],
   "source": []
  }
 ],
 "metadata": {
  "kernelspec": {
   "display_name": "Python 3 (ipykernel)",
   "language": "python",
   "name": "python3"
  },
  "language_info": {
   "codemirror_mode": {
    "name": "ipython",
    "version": 3
   },
   "file_extension": ".py",
   "mimetype": "text/x-python",
   "name": "python",
   "nbconvert_exporter": "python",
   "pygments_lexer": "ipython3",
   "version": "3.12.8"
  }
 },
 "nbformat": 4,
 "nbformat_minor": 5
}
